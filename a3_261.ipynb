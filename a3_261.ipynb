{
 "cells": [
  {
   "cell_type": "markdown",
   "metadata": {},
   "source": [
    "Name: Khushal Khan 2021261\n",
    "Assignment 3"
   ]
  },
  {
   "cell_type": "code",
   "execution_count": 6,
   "metadata": {},
   "outputs": [
    {
     "name": "stdout",
     "output_type": "stream",
     "text": [
      "Requirement already satisfied: pyspark in /Library/Frameworks/Python.framework/Versions/3.11/lib/python3.11/site-packages (3.5.3)\n",
      "Requirement already satisfied: py4j==0.10.9.7 in /Library/Frameworks/Python.framework/Versions/3.11/lib/python3.11/site-packages (from pyspark) (0.10.9.7)\n",
      "\n",
      "\u001b[1m[\u001b[0m\u001b[34;49mnotice\u001b[0m\u001b[1;39;49m]\u001b[0m\u001b[39;49m A new release of pip is available: \u001b[0m\u001b[31;49m24.2\u001b[0m\u001b[39;49m -> \u001b[0m\u001b[32;49m24.3.1\u001b[0m\n",
      "\u001b[1m[\u001b[0m\u001b[34;49mnotice\u001b[0m\u001b[1;39;49m]\u001b[0m\u001b[39;49m To update, run: \u001b[0m\u001b[32;49mpip3 install --upgrade pip\u001b[0m\n",
      "Note: you may need to restart the kernel to use updated packages.\n"
     ]
    }
   ],
   "source": [
    "pip install pyspark"
   ]
  },
  {
   "cell_type": "code",
   "execution_count": 7,
   "metadata": {},
   "outputs": [],
   "source": [
    "from pyspark.sql import SparkSession\n",
    "from pyspark.sql.functions import col, count, desc, avg, max, min, split, length\n",
    "\n",
    "# Initialize Spark Session\n",
    "def init_spark_session(app_name):\n",
    "    \"\"\"Creates and returns a Spark session.\"\"\"\n",
    "    return SparkSession.builder.appName(app_name).getOrCreate()"
   ]
  },
  {
   "cell_type": "code",
   "execution_count": null,
   "metadata": {},
   "outputs": [],
   "source": [
    "# Loading Dataset\n",
    "def load_dataset(spark_session, file_path):\n",
    "    \"\"\"Loads a dataset from a CSV file into a DataFrame.\"\"\"\n",
    "    return spark_session.read.csv(file_path, header=True, inferSchema=True)\n",
    "\n"
   ]
  },
  {
   "cell_type": "code",
   "execution_count": 9,
   "metadata": {},
   "outputs": [],
   "source": [
    "# Basic Dataset Information\n",
    "def display_basic_info(dataframe):\n",
    "    \"\"\"Displays schema and record count of the DataFrame.\"\"\"\n",
    "    print(\"\\n--- Basic Dataset Information ---\")\n",
    "    dataframe.printSchema()\n",
    "    print(f\"Total Records: {dataframe.count()}\")\n",
    "\n",
    "\n"
   ]
  },
  {
   "cell_type": "code",
   "execution_count": 10,
   "metadata": {},
   "outputs": [],
   "source": [
    "# Top Directors by Titles\n",
    "def analyze_top_directors(dataframe):\n",
    "    \"\"\"Displays top directors with the most titles.\"\"\"\n",
    "    print(\"\\n--- Top Directors by Number of Titles ---\")\n",
    "    dataframe.groupBy(\"director\") \\\n",
    "        .agg(count(\"*\").alias(\"title_count\")) \\\n",
    "        .orderBy(desc(\"title_count\")) \\\n",
    "        .limit(10) \\\n",
    "        .show()\n",
    "\n"
   ]
  },
  {
   "cell_type": "code",
   "execution_count": 11,
   "metadata": {},
   "outputs": [],
   "source": [
    "# Average Release Year by Content Type\n",
    "def analyze_avg_release_year(dataframe):\n",
    "    \"\"\"Calculates and displays average release year by content type.\"\"\"\n",
    "    print(\"\\n--- Average Release Year by Content Type ---\")\n",
    "    dataframe.groupBy(\"type\") \\\n",
    "        .agg(avg(\"release_year\").alias(\"avg_release_year\")) \\\n",
    "        .orderBy(\"type\") \\\n",
    "        .show()\n",
    "\n"
   ]
  },
  {
   "cell_type": "code",
   "execution_count": 12,
   "metadata": {},
   "outputs": [],
   "source": [
    "# Content Duration Analysis\n",
    "def analyze_content_duration(dataframe):\n",
    "    \"\"\"Analyzes and displays duration statistics by content type.\"\"\"\n",
    "    print(\"\\n--- Content Duration Statistics ---\")\n",
    "    dataframe.withColumn(\"duration_numeric\", split(col(\"duration\"), \" \")[0].cast(\"int\")) \\\n",
    "        .groupBy(\"type\") \\\n",
    "        .agg(\n",
    "            avg(\"duration_numeric\").alias(\"avg_duration\"),\n",
    "            max(\"duration_numeric\").alias(\"max_duration\"),\n",
    "            min(\"duration_numeric\").alias(\"min_duration\")\n",
    "        ) \\\n",
    "        .show()\n",
    "\n"
   ]
  },
  {
   "cell_type": "code",
   "execution_count": 13,
   "metadata": {},
   "outputs": [],
   "source": [
    "# Top Countries by Genre Diversity\n",
    "def analyze_genre_diversity(dataframe):\n",
    "    \"\"\"Displays countries with the most diverse genres.\"\"\"\n",
    "    print(\"\\n--- Countries with the Most Diverse Genres ---\")\n",
    "    dataframe.groupBy(\"country\") \\\n",
    "        .agg(count(\"listed_in\").alias(\"genre_count\")) \\\n",
    "        .orderBy(desc(\"genre_count\")) \\\n",
    "        .limit(10) \\\n",
    "        .show()\n",
    "\n"
   ]
  },
  {
   "cell_type": "code",
   "execution_count": 14,
   "metadata": {},
   "outputs": [],
   "source": [
    "# Titles with Longest Words\n",
    "def analyze_longest_titles(dataframe):\n",
    "    \"\"\"Displays titles with the longest words.\"\"\"\n",
    "    print(\"\\n--- Titles with Longest Words ---\")\n",
    "    dataframe.withColumn(\"title_length\", length(col(\"title\"))) \\\n",
    "        .orderBy(desc(\"title_length\")) \\\n",
    "        .select(\"title\", \"title_length\") \\\n",
    "        .limit(10) \\\n",
    "        .show()\n",
    "\n"
   ]
  },
  {
   "cell_type": "code",
   "execution_count": 15,
   "metadata": {},
   "outputs": [],
   "source": [
    "# Group Content by Rating\n",
    "def analyze_rating_distribution(dataframe):\n",
    "    \"\"\"Analyzes content count by rating.\"\"\"\n",
    "    print(\"\\n--- Content Distribution by Rating ---\")\n",
    "    dataframe.groupBy(\"rating\") \\\n",
    "        .agg(count(\"*\").alias(\"count\")) \\\n",
    "        .orderBy(desc(\"count\")) \\\n",
    "        .show()\n",
    "\n"
   ]
  },
  {
   "cell_type": "code",
   "execution_count": 16,
   "metadata": {},
   "outputs": [],
   "source": [
    "# Main EDA Function\n",
    "def run_eda(dataframe):\n",
    "    \"\"\"Executes all EDA tasks on the given DataFrame.\"\"\"\n",
    "    display_basic_info(dataframe)\n",
    "    analyze_top_directors(dataframe)\n",
    "    analyze_avg_release_year(dataframe)\n",
    "    analyze_content_duration(dataframe)\n",
    "    analyze_genre_diversity(dataframe)\n",
    "    analyze_longest_titles(dataframe)\n",
    "    analyze_rating_distribution(dataframe)\n",
    "\n"
   ]
  },
  {
   "cell_type": "code",
   "execution_count": 17,
   "metadata": {},
   "outputs": [
    {
     "name": "stdout",
     "output_type": "stream",
     "text": [
      "\n",
      "--- Basic Dataset Information ---\n",
      "root\n",
      " |-- show_id: string (nullable = true)\n",
      " |-- type: string (nullable = true)\n",
      " |-- title: string (nullable = true)\n",
      " |-- director: string (nullable = true)\n",
      " |-- cast: string (nullable = true)\n",
      " |-- country: string (nullable = true)\n",
      " |-- date_added: string (nullable = true)\n",
      " |-- release_year: string (nullable = true)\n",
      " |-- rating: string (nullable = true)\n",
      " |-- duration: string (nullable = true)\n",
      " |-- listed_in: string (nullable = true)\n",
      " |-- description: string (nullable = true)\n",
      "\n",
      "Total Records: 8809\n",
      "\n",
      "--- Top Directors by Number of Titles ---\n",
      "+--------------------+-----------+\n",
      "|            director|title_count|\n",
      "+--------------------+-----------+\n",
      "|                NULL|       2636|\n",
      "|       Rajiv Chilaka|         19|\n",
      "|Raúl Campos, Jan ...|         18|\n",
      "|        Marcus Raboy|         16|\n",
      "|         Suhas Kadav|         16|\n",
      "|           Jay Karas|         14|\n",
      "| Cathy Garcia-Molina|         13|\n",
      "|     Youssef Chahine|         12|\n",
      "|     Martin Scorsese|         12|\n",
      "|         Jay Chapman|         12|\n",
      "+--------------------+-----------+\n",
      "\n",
      "\n",
      "--- Average Release Year by Content Type ---\n",
      "+-------------+------------------+\n",
      "|         type|  avg_release_year|\n",
      "+-------------+------------------+\n",
      "|         NULL|              NULL|\n",
      "|        Movie|2013.1326463853452|\n",
      "|      TV Show|2016.6071829405162|\n",
      "|William Wyler|              NULL|\n",
      "+-------------+------------------+\n",
      "\n",
      "\n",
      "--- Content Duration Statistics ---\n",
      "+-------------+------------------+------------+------------+\n",
      "|         type|      avg_duration|max_duration|min_duration|\n",
      "+-------------+------------------+------------+------------+\n",
      "|         NULL|              NULL|        NULL|        NULL|\n",
      "|      TV Show|1.7654320987654322|          17|           1|\n",
      "|        Movie| 99.88907068062828|        1994|           3|\n",
      "|William Wyler|              NULL|        NULL|        NULL|\n",
      "+-------------+------------------+------------+------------+\n",
      "\n",
      "\n",
      "--- Countries with the Most Diverse Genres ---\n",
      "+--------------+-----------+\n",
      "|       country|genre_count|\n",
      "+--------------+-----------+\n",
      "| United States|       2805|\n",
      "|         India|        972|\n",
      "|          NULL|        830|\n",
      "|United Kingdom|        419|\n",
      "|         Japan|        245|\n",
      "|   South Korea|        199|\n",
      "|        Canada|        181|\n",
      "|         Spain|        145|\n",
      "|        France|        123|\n",
      "|        Mexico|        110|\n",
      "+--------------+-----------+\n",
      "\n",
      "\n",
      "--- Titles with Longest Words ---\n",
      "+--------------------+------------+\n",
      "|               title|title_length|\n",
      "+--------------------+------------+\n",
      "|Jim & Andy: The G...|         104|\n",
      "|Ken Burns Present...|          93|\n",
      "|Mike Birbiglia: W...|          88|\n",
      "|The Power of Gray...|          88|\n",
      "|Steve Martin and ...|          83|\n",
      "|Cultivating the S...|          79|\n",
      "|Power Rangers Sam...|          78|\n",
      "|Willy and the Gua...|          77|\n",
      "|Ya no estoy aquí:...|          76|\n",
      "|The Road to El Ca...|          75|\n",
      "+--------------------+------------+\n",
      "\n",
      "\n",
      "--- Content Distribution by Rating ---\n",
      "+-----------------+-----+\n",
      "|           rating|count|\n",
      "+-----------------+-----+\n",
      "|            TV-MA| 3195|\n",
      "|            TV-14| 2158|\n",
      "|            TV-PG|  862|\n",
      "|                R|  796|\n",
      "|            PG-13|  489|\n",
      "|            TV-Y7|  334|\n",
      "|             TV-Y|  307|\n",
      "|               PG|  286|\n",
      "|             TV-G|  220|\n",
      "|               NR|   80|\n",
      "|                G|   41|\n",
      "|             NULL|    6|\n",
      "|         TV-Y7-FV|    6|\n",
      "|               UR|    3|\n",
      "|            NC-17|    3|\n",
      "|             2021|    2|\n",
      "| November 1, 2020|    1|\n",
      "| Shavidee Trotter|    1|\n",
      "|    Adriane Lenox|    1|\n",
      "|    Maury Chaykin|    1|\n",
      "+-----------------+-----+\n",
      "only showing top 20 rows\n",
      "\n"
     ]
    }
   ],
   "source": [
    "# Script Execution\n",
    "if __name__ == \"__main__\":\n",
    "    # Initialize Spark Session\n",
    "    spark = init_spark_session(\"Netflix Dataset EDA\")\n",
    "\n",
    "    # Define dataset path\n",
    "    dataset_path = \"netflix_titles.csv\"\n",
    "\n",
    "    # Load the dataset\n",
    "    netflix_df = load_dataset(spark, dataset_path)\n",
    "\n",
    "    # Run EDA\n",
    "    run_eda(netflix_df)\n",
    "\n",
    "    # Stop Spark Session\n",
    "    spark.stop()"
   ]
  }
 ],
 "metadata": {
  "kernelspec": {
   "display_name": "Python 3",
   "language": "python",
   "name": "python3"
  },
  "language_info": {
   "codemirror_mode": {
    "name": "ipython",
    "version": 3
   },
   "file_extension": ".py",
   "mimetype": "text/x-python",
   "name": "python",
   "nbconvert_exporter": "python",
   "pygments_lexer": "ipython3",
   "version": "3.11.4"
  }
 },
 "nbformat": 4,
 "nbformat_minor": 2
}
